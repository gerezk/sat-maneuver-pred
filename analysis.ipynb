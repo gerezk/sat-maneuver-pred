{
 "cells": [
  {
   "cell_type": "code",
   "execution_count": 10,
   "id": "d399dd99-541d-435e-90b1-5a2dccf39dae",
   "metadata": {},
   "outputs": [
    {
     "name": "stdout",
     "output_type": "stream",
     "text": [
      "Collecting satkit\n",
      "  Downloading satkit-0.5.5-cp312-cp312-macosx_11_0_arm64.whl.metadata (7.1 kB)\n",
      "Requirement already satisfied: numpy>=1.0.0 in /Users/kyzer/Library/jupyterlab-desktop/jlab_server/lib/python3.12/site-packages (from satkit) (2.1.0)\n",
      "Downloading satkit-0.5.5-cp312-cp312-macosx_11_0_arm64.whl (1.9 MB)\n",
      "\u001b[2K   \u001b[90m━━━━━━━━━━━━━━━━━━━━━━━━━━━━━━━━━━━━━━━━\u001b[0m \u001b[32m1.9/1.9 MB\u001b[0m \u001b[31m11.9 MB/s\u001b[0m eta \u001b[36m0:00:00\u001b[0m\n",
      "\u001b[?25hInstalling collected packages: satkit\n",
      "Successfully installed satkit-0.5.5\n",
      "Note: you may need to restart the kernel to use updated packages.\n"
     ]
    }
   ],
   "source": [
    "pip install satkit"
   ]
  },
  {
   "cell_type": "code",
   "execution_count": 7,
   "id": "da912376-7276-4595-9af9-cfb5ca6f3098",
   "metadata": {},
   "outputs": [
    {
     "name": "stdout",
     "output_type": "stream",
     "text": [
      "98.6311\n"
     ]
    }
   ],
   "source": [
    "import pandas as pd\n",
    "\n",
    "satellites = satkit.TLE.from_file('data/TLE/Sentinel-3A.tle')\n",
    "\n",
    "print(satellites[0].inclination)"
   ]
  },
  {
   "cell_type": "code",
   "execution_count": null,
   "id": "9a6ec214-5f06-4075-a867-be1080ee8da1",
   "metadata": {},
   "outputs": [],
   "source": []
  }
 ],
 "metadata": {
  "kernelspec": {
   "display_name": "Python 3 (ipykernel)",
   "language": "python",
   "name": "python3"
  },
  "language_info": {
   "codemirror_mode": {
    "name": "ipython",
    "version": 3
   },
   "file_extension": ".py",
   "mimetype": "text/x-python",
   "name": "python",
   "nbconvert_exporter": "python",
   "pygments_lexer": "ipython3",
   "version": "3.12.5"
  }
 },
 "nbformat": 4,
 "nbformat_minor": 5
}
